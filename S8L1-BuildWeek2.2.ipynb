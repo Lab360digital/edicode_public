{
 "cells": [
  {
   "cell_type": "code",
   "execution_count": 1,
   "metadata": {},
   "outputs": [
    {
     "name": "stdout",
     "output_type": "stream",
     "text": [
      "9.0\n"
     ]
    }
   ],
   "source": [
    "#1.Funzione che restituisca il massimo di tre numeri\n",
    "\n",
    "def massimo_tra_tre_numeri():\n",
    "    try:\n",
    "        num1 = float(input(\"Inserisci il primo numero: \"))\n",
    "        num2 = float(input(\"Inserisci il secondo numero: \"))\n",
    "        num3 = float(input(\"Inserisci il terzo numero: \"))\n",
    "        \n",
    "        massimo = num1\n",
    "        \n",
    "        if num2 > massimo:\n",
    "            massimo = num2\n",
    "        \n",
    "        if num3 > massimo:\n",
    "            massimo = num3\n",
    "        \n",
    "        return massimo\n",
    "    \n",
    "    except ValueError:\n",
    "        return \"Inserisci tre numeri validi.\"\n",
    "\n",
    "risultato = massimo_tra_tre_numeri()\n",
    "print(risultato)\n"
   ]
  },
  {
   "cell_type": "code",
   "execution_count": 4,
   "metadata": {},
   "outputs": [
    {
     "name": "stdout",
     "output_type": "stream",
     "text": [
      "30.0 gradi Celsius corrispondono a 86.0 gradi Fahrenheit.\n"
     ]
    }
   ],
   "source": [
    "#2.Funzione che converta gradi Celsius in Fahrenheit\n",
    "\n",
    "def celsius_to_fahrenheit(gradi_celsius):\n",
    "    gradi_fahrenheit = (gradi_celsius * 9/5) + 32\n",
    "    return gradi_fahrenheit\n",
    "\n",
    "celsius = float(input(\"Inserisci la temperatura in gradi Celsius: \"))\n",
    "fahrenheit = celsius_to_fahrenheit(celsius)\n",
    "print(f\"{celsius} gradi Celsius corrispondono a {fahrenheit} gradi Fahrenheit.\")\n",
    "\n"
   ]
  },
  {
   "cell_type": "code",
   "execution_count": 6,
   "metadata": {},
   "outputs": [
    {
     "name": "stdout",
     "output_type": "stream",
     "text": [
      "[1, 2, 3, 4, 5]\n"
     ]
    }
   ],
   "source": [
    "# 3. Funzione che rimuove i duplicati da una lista\n",
    "\n",
    "def rimuovi_duplicati(lista):\n",
    "    lista_senza_duplicati = list(set(lista))\n",
    "    return lista_senza_duplicati\n",
    "\n",
    "lista = [1, 2, 2, 3, 4, 4, 5]\n",
    "lista_pulita = rimuovi_duplicati(lista)\n",
    "print(lista_pulita)\n"
   ]
  },
  {
   "cell_type": "code",
   "execution_count": 12,
   "metadata": {},
   "outputs": [
    {
     "name": "stdout",
     "output_type": "stream",
     "text": [
      "'Anna' è un palindromo.\n"
     ]
    }
   ],
   "source": [
    "# Funzione che verifichi se una parola è un palindromo\n",
    "\n",
    "def is_palindromo():\n",
    "    parola = input(\"Inserisci una parola o frase per verificare se è un palindromo: \")\n",
    "    # Rimuovere gli spazi e convertire in minuscolo per la verifica\n",
    "    parola_pulita = parola.replace(\" \", \"\").lower()\n",
    "    \n",
    "    # Confrontare la parola con la sua versione invertita\n",
    "    if parola_pulita == parola_pulita[::-1]: # crea una nuova stringa che è l'inverso della stringa originale\n",
    "        print(f\"'{parola}' è un palindromo.\")\n",
    "    else:\n",
    "        print(f\"'{parola}' non è un palindromo.\")\n",
    "is_palindromo()\n",
    "\n",
    "\n"
   ]
  },
  {
   "cell_type": "code",
   "execution_count": 13,
   "metadata": {},
   "outputs": [
    {
     "name": "stdout",
     "output_type": "stream",
     "text": [
      "120\n",
      "1\n",
      "Il fattoriale non è definito per numeri negativi\n"
     ]
    }
   ],
   "source": [
    "#5. fFunzione che calcoli il fattoriale di un numero\n",
    "\n",
    "def fattoriale(n):\n",
    "    if n < 0:\n",
    "        return \"Il fattoriale non è definito per numeri negativi\"\n",
    "    \n",
    "    risultato = 1\n",
    "    for i in range(2, n + 1):\n",
    "        risultato *= i\n",
    "    return risultato\n",
    "\n",
    "print(fattoriale(5))  \n",
    "print(fattoriale(0))  \n",
    "print(fattoriale(-1)) \n"
   ]
  },
  {
   "cell_type": "code",
   "execution_count": 14,
   "metadata": {},
   "outputs": [
    {
     "name": "stdout",
     "output_type": "stream",
     "text": [
      "{'a': 1, 'b': 2, 'c': 3}\n"
     ]
    }
   ],
   "source": [
    "#6. Dizionario da due liste, una che contiene le chiavi e l’altra i valori\n",
    "def crea_dizionario(chiavi, valori):\n",
    "    # Assicurarsi che le liste abbiano la stessa lunghezza\n",
    "    if len(chiavi) != len(valori):\n",
    "        return \"Le liste devono avere la stessa lunghezza\"\n",
    "    \n",
    "    # Creare il dizionario usando zip e dict\n",
    "    dizionario = dict(zip(chiavi, valori))\n",
    "    return dizionario\n",
    "\n",
    "# Esempio di utilizzo\n",
    "chiavi = ['a', 'b', 'c']\n",
    "valori = [1, 2, 3]\n",
    "\n",
    "dizionario_creato = crea_dizionario(chiavi, valori)\n",
    "print(dizionario_creato)\n"
   ]
  },
  {
   "cell_type": "code",
   "execution_count": 15,
   "metadata": {},
   "outputs": [
    {
     "name": "stdout",
     "output_type": "stream",
     "text": [
      "[(1, 'a'), (2, 'b'), (3, 'c')]\n"
     ]
    }
   ],
   "source": [
    "#7. Funzione che unisca due liste in una lista di tuple\n",
    "def unisci_in_tuple(lista1, lista2):\n",
    "    return list(zip(lista1, lista2))\n",
    "\n",
    "# Esempio di utilizzo\n",
    "lista1 = [1, 2, 3]\n",
    "lista2 = ['a', 'b', 'c']\n",
    "\n",
    "lista_combinata = unisci_in_tuple(lista1, lista2)\n",
    "print(lista_combinata)\n"
   ]
  },
  {
   "cell_type": "code",
   "execution_count": 16,
   "metadata": {},
   "outputs": [
    {
     "name": "stdout",
     "output_type": "stream",
     "text": [
      "[(2, 'a'), (1, 'b'), (3, 'c'), (4, 'd')]\n"
     ]
    }
   ],
   "source": [
    "#8. Funzione che ordina una lista di tuple per il secondo elemento.\n",
    "\n",
    "def ordina_per_secondo_elemento(lista_di_tuple):\n",
    "    return sorted(lista_di_tuple, key=lambda x: x[1])\n",
    "\n",
    "# Esempio di utilizzo\n",
    "lista_di_tuple = [(1, 'b'), (2, 'a'), (4, 'd'), (3, 'c')]\n",
    "lista_ordinata = ordina_per_secondo_elemento(lista_di_tuple)\n",
    "print(lista_ordinata)\n"
   ]
  },
  {
   "cell_type": "code",
   "execution_count": 17,
   "metadata": {},
   "outputs": [
    {
     "name": "stdout",
     "output_type": "stream",
     "text": [
      "[1, 4, 9, 16, 25, 36, 49, 64, 81, 100]\n"
     ]
    }
   ],
   "source": [
    "#9. List comprehension per creare una lista dei quadrati dei primi 10 numeri interi.\n",
    "\n",
    "quadrati = [x**2 for x in range(1, 11)]\n",
    "print(quadrati)"
   ]
  },
  {
   "cell_type": "code",
   "execution_count": 18,
   "metadata": {},
   "outputs": [
    {
     "name": "stdout",
     "output_type": "stream",
     "text": [
      "[2, 4, 6, 8, 10]\n"
     ]
    }
   ],
   "source": [
    "#10. List comprehension per estrarre numeri pari da una lista data.\n",
    "\n",
    "lista_numeri = [1, 2, 3, 4, 5, 6, 7, 8, 9, 10] # Lista di esempio\n",
    "\n",
    "# List comprehension per filtrare i numeri pari\n",
    "numeri_pari = [num for num in lista_numeri if num % 2 == 0]\n",
    "\n",
    "print(numeri_pari)\n"
   ]
  },
  {
   "cell_type": "code",
   "execution_count": 19,
   "metadata": {},
   "outputs": [
    {
     "name": "stdout",
     "output_type": "stream",
     "text": [
      "['CIAO', 'MONDO', 'PYTHON', 'PROGRAMMAZIONE']\n"
     ]
    }
   ],
   "source": [
    "#11. List comprehension che converta una lista di stringhe in maiuscolo.\n",
    "\n",
    "lista_stringhe = [\"ciao\", \"mondo\", \"python\", \"programmazione\"] # Lista di esempio con alcune stringhe\n",
    "\n",
    "# List comprehension per convertire ogni stringa in maiuscolo\n",
    "lista_maiuscole = [stringa.upper() for stringa in lista_stringhe]\n",
    "\n",
    "print(lista_maiuscole)\n"
   ]
  },
  {
   "cell_type": "code",
   "execution_count": 20,
   "metadata": {},
   "outputs": [
    {
     "name": "stdout",
     "output_type": "stream",
     "text": [
      "[(1, 1), (2, 4), (3, 9), (4, 16), (5, 25), (6, 36), (7, 49), (8, 64), (9, 81), (10, 100)]\n"
     ]
    }
   ],
   "source": [
    "#12. List comprehension per creare una lista di tuple (numero, quadrato del numero)\n",
    "\n",
    "lista_tuple = [(x, x**2) for x in range(1, 11)]\n",
    "\n",
    "print(lista_tuple)\n"
   ]
  },
  {
   "cell_type": "code",
   "execution_count": 21,
   "metadata": {},
   "outputs": [
    {
     "name": "stdout",
     "output_type": "stream",
     "text": [
      "['isola', 'ombrello']\n"
     ]
    }
   ],
   "source": [
    "#13. List comprehension che filtri le parole di una lista che iniziano con una vocale\n",
    "\n",
    "lista_parole = [\"tombola\", \"pasta\", \"cocodrillo\", \"isola\", \"ombrello\", \"scala\"] \n",
    "\n",
    "vocali = 'aeiou' # Vocali\n",
    "\n",
    "# List comprehension per filtrare le parole che iniziano con una vocale\n",
    "parole_con_vocale = [\n",
    "    parola for parola in lista_parole \n",
    "    if parola[0].lower() in vocali]\n",
    "\n",
    "print(parole_con_vocale)\n"
   ]
  },
  {
   "cell_type": "code",
   "execution_count": 22,
   "metadata": {},
   "outputs": [
    {
     "name": "stdout",
     "output_type": "stream",
     "text": [
      "[10, 20, 30, 40]\n"
     ]
    }
   ],
   "source": [
    "# 14. List comprehension per eliminare i valori negativi da una lista\n",
    "\n",
    "lista_valori = [10, -5, 20, -3, 30, -1, 40]\n",
    "\n",
    "# List comprehension per eliminare i valori negativi\n",
    "valori_non_negativi = [\n",
    "    num for num in lista_valori \n",
    "    if num >= 0]\n",
    "\n",
    "print(valori_non_negativi)\n"
   ]
  },
  {
   "cell_type": "code",
   "execution_count": 23,
   "metadata": {},
   "outputs": [
    {
     "name": "stdout",
     "output_type": "stream",
     "text": [
      "['a', 'b', 'c', 'd', 'e', 'f', 'g', 'h', 'i', 'j', 'k', 'l', 'm', 'n', 'o', 'p', 'q', 'r', 's', 't', 'u', 'v', 'w', 'x', 'y', 'z']\n"
     ]
    }
   ],
   "source": [
    "#15. Lista di tutte le lettere dell’alfabeto con una list comprehension\n",
    "\n",
    "import string\n",
    "\n",
    "# List comprehension per creare una lista di tutte le lettere dell'alfabeto\n",
    "alfabeto = [lettera for lettera in string.ascii_lowercase]\n",
    "\n",
    "print(alfabeto)\n"
   ]
  },
  {
   "cell_type": "code",
   "execution_count": 27,
   "metadata": {},
   "outputs": [
    {
     "name": "stdout",
     "output_type": "stream",
     "text": [
      "[[0.4220009  0.71351499 0.69351732]\n",
      " [0.15088037 0.67030305 0.48597564]\n",
      " [0.19428687 0.55698581 0.7330167 ]]\n",
      "[[1 6 2]\n",
      " [3 2 1]\n",
      " [1 4 8]]\n"
     ]
    }
   ],
   "source": [
    "#16. Crea un array numpy di dimensione 3x3 con valori casuali\n",
    "\n",
    "import numpy as np\n",
    "\n",
    "# Creare un array 3x3 con valori casuali\n",
    "array_casuale = np.random.rand(3, 3)\n",
    "\n",
    "print(array_casuale)\n",
    "\n",
    "# Per fare un array di numeri interi (ad esempio, da 0 a 9)\n",
    "\n",
    "min_valore = 0\n",
    "max_valore = 10  # il limite superiore è esclusivo in np.random.randint\n",
    "\n",
    "# Creare un array 3x3 di numeri interi casuali\n",
    "array_interi_casuali = np.random.randint(min_valore, max_valore, size=(3, 3))\n",
    "\n",
    "print(array_interi_casuali)\n",
    "\n"
   ]
  },
  {
   "cell_type": "code",
   "execution_count": 28,
   "metadata": {},
   "outputs": [
    {
     "name": "stdout",
     "output_type": "stream",
     "text": [
      "Somma totale degli elementi dell'array: 45\n"
     ]
    }
   ],
   "source": [
    "#17. Scrivi un programma che calcoli la somma di tutti gli elementi in un array numpy\n",
    "\n",
    "import numpy as np\n",
    "\n",
    "# Creazione di un array NumPy di esempio\n",
    "array_esempio = np.array([[1, 2, 3], [4, 5, 6], [7, 8, 9]])\n",
    "\n",
    "# Calcolo della somma di tutti gli elementi dell'array\n",
    "somma_totale = np.sum(array_esempio)\n",
    "\n",
    "print(\"Somma totale degli elementi dell'array:\", somma_totale)\n"
   ]
  },
  {
   "cell_type": "code",
   "execution_count": 29,
   "metadata": {},
   "outputs": [
    {
     "name": "stdout",
     "output_type": "stream",
     "text": [
      "Media: 5.0\n",
      "Mediana: 5.0\n",
      "Varianza: 6.666666666666667\n"
     ]
    }
   ],
   "source": [
    "#18. Crea un array numpy e calcolane la media, mediana e varianza\n",
    "\n",
    "import numpy as np\n",
    "\n",
    "# Creazione di un array NumPy di esempio\n",
    "array_esempio = np.array([1, 2, 3, 4, 5, 6, 7, 8, 9])\n",
    "\n",
    "# Calcolo della media\n",
    "media = np.mean(array_esempio)\n",
    "\n",
    "# Calcolo della mediana\n",
    "mediana = np.median(array_esempio)\n",
    "\n",
    "# Calcolo della varianza\n",
    "varianza = np.var(array_esempio)\n",
    "\n",
    "print(\"Media:\", media)\n",
    "print(\"Mediana:\", mediana)\n",
    "print(\"Varianza:\", varianza)\n"
   ]
  },
  {
   "cell_type": "code",
   "execution_count": 30,
   "metadata": {},
   "outputs": [
    {
     "name": "stdout",
     "output_type": "stream",
     "text": [
      "Prodotto matriciale delle due matrici:\n",
      " [[19 22]\n",
      " [43 50]]\n"
     ]
    }
   ],
   "source": [
    "#19. Scrivi un programma che moltiplichi due matrici numpy\n",
    "\n",
    "import numpy as np\n",
    "\n",
    "# Creazione di due matrici NumPy di esempio\n",
    "matrice_A = np.array([[1, 2], [3, 4]])\n",
    "matrice_B = np.array([[5, 6], [7, 8]])\n",
    "\n",
    "# Moltiplicazione delle matrici\n",
    "prodotto_matriciale = np.dot(matrice_A, matrice_B)\n",
    "# Alternativamente, puoi usare: prodotto_matriciale = matrice_A @ matrice_B\n",
    "\n",
    "print(\"Prodotto matriciale delle due matrici:\\n\", prodotto_matriciale)\n"
   ]
  },
  {
   "cell_type": "code",
   "execution_count": 31,
   "metadata": {},
   "outputs": [
    {
     "name": "stdout",
     "output_type": "stream",
     "text": [
      "Array originale: [3 1 4 1 5 9 2 6 5 3 5]\n",
      "Array ordinato: [1 1 2 3 3 4 5 5 5 6 9]\n"
     ]
    }
   ],
   "source": [
    "#20. Crea un array numpy e ordinalo in modo ascendente.\n",
    "\n",
    "import numpy as np\n",
    "\n",
    "# Creazione di un array NumPy di esempio\n",
    "array_esempio = np.array([3, 1, 4, 1, 5, 9, 2, 6, 5, 3, 5])\n",
    "\n",
    "# Ordinamento dell'array in modo ascendente\n",
    "array_ordinato = np.sort(array_esempio)  #restituisce una versione ordinata dell'array \n",
    "print(\"Array originale:\", array_esempio)\n",
    "print(\"Array ordinato:\", array_ordinato)\n"
   ]
  },
  {
   "cell_type": "code",
   "execution_count": 32,
   "metadata": {},
   "outputs": [
    {
     "name": "stdout",
     "output_type": "stream",
     "text": [
      "      Nome  Età Sesso\n",
      "0    Alice   25     F\n",
      "1      Bob   30     M\n",
      "2  Charlie   35     M\n",
      "3    David   40     M\n"
     ]
    },
    {
     "name": "stderr",
     "output_type": "stream",
     "text": [
      "C:\\Users\\Isabe\\AppData\\Local\\Temp\\ipykernel_25456\\2166353547.py:3: DeprecationWarning: \n",
      "Pyarrow will become a required dependency of pandas in the next major release of pandas (pandas 3.0),\n",
      "(to allow more performant data types, such as the Arrow string type, and better interoperability with other libraries)\n",
      "but was not found to be installed on your system.\n",
      "If this would cause problems for you,\n",
      "please provide us feedback at https://github.com/pandas-dev/pandas/issues/54466\n",
      "        \n",
      "  import pandas as pd\n"
     ]
    }
   ],
   "source": [
    "#21. Crea un DataFrame pandas da un dizionario\n",
    "\n",
    "import pandas as pd\n",
    "\n",
    "# Dizionario con i dati\n",
    "dati = {\n",
    "    'Nome': ['Alice', 'Bob', 'Charlie', 'David'],\n",
    "    'Età': [25, 30, 35, 40],\n",
    "    'Sesso': ['F', 'M', 'M', 'M']\n",
    "}\n",
    "\n",
    "# Creazione del DataFrame\n",
    "df = pd.DataFrame(dati)\n",
    "\n",
    "# Stampare il DataFrame\n",
    "print(df)\n"
   ]
  },
  {
   "cell_type": "code",
   "execution_count": null,
   "metadata": {},
   "outputs": [],
   "source": [
    "#22. Leggi un file CSV in un DataFrame pandas\n",
    "\n",
    "import pandas as pd\n",
    "\n",
    "# Leggi il file CSV in un DataFrame\n",
    "df = pd.read_csv('.\\datos-google-ads.csv')\n",
    "\n",
    "# Stampare il DataFrame\n",
    "print(df)\n"
   ]
  },
  {
   "cell_type": "code",
   "execution_count": null,
   "metadata": {},
   "outputs": [],
   "source": [
    "#23. Seleziona una colonna specifica da un DataFrame\n",
    "\n",
    "import pandas as pd\n",
    "\n",
    "# Seleziona la colonna 'Nome'\n",
    "colonna_keyword = df['Keyword']\n",
    "\n",
    "# Stampare la colonna selezionata\n",
    "print(colonna_keyword)\n"
   ]
  },
  {
   "cell_type": "code",
   "execution_count": null,
   "metadata": {},
   "outputs": [],
   "source": [
    "#24. Filtra un DataFrame pandas in base a una condizione\n",
    "\n",
    "import pandas as pd\n",
    "\n",
    "# Filtra il DataFrame in base alla condizione\n",
    "df_filtrato = df[df['Avg. monthly searches'] > 1000]\n",
    "\n",
    "# Stampare il DataFrame filtrato\n",
    "print(df_filtrato)\n"
   ]
  },
  {
   "cell_type": "code",
   "execution_count": null,
   "metadata": {},
   "outputs": [],
   "source": [
    "#25. Calcola la media dei valori in ogni colonna di un DataFrame\n",
    "\n",
    "import pandas as pd\n",
    "\n",
    "# Leggi il file CSV in un DataFrame\n",
    "df = pd.read_csv('.\\datos-google-ads.csv')\n",
    "\n",
    "# Calcola la media solo per le colonne numeriche\n",
    "media_per_colonna_numerica = df.mean(numeric_only=True)\n",
    "\n",
    "# Stampare la media per ogni colonna numerica\n",
    "print(media_per_colonna_numerica)\n",
    "\n"
   ]
  },
  {
   "cell_type": "code",
   "execution_count": null,
   "metadata": {},
   "outputs": [],
   "source": [
    "#26. Crea un grafico a linee di una serie temporale con Matplotlib\n",
    "\n",
    "import pandas as pd\n",
    "import matplotlib.pyplot as plt\n",
    "\n",
    "df = pd.read_csv('.\\\\Amazon_Customer_Behavior_Survey.csv', parse_dates=['Timestamp'], index_col='Timestamp')\n",
    "\n",
    "print(df.head())  # Visualizza le prime righe del DataFrame per controllare la struttura dei dati\n",
    "print(df.info())  # Visualizza informazioni sul DataFrame, come tipi di dati e valori non nulli\n"
   ]
  },
  {
   "cell_type": "code",
   "execution_count": 54,
   "metadata": {},
   "outputs": [
    {
     "data": {
      "image/png": "[encoded data removed]",
      "text/plain": [
       "<Figure size 1000x600 with 1 Axes>"
      ]
     },
     "metadata": {},
     "output_type": "display_data"
    }
   ],
   "source": [
    "\n",
    "# Creare il grafico a linee\n",
    "plt.figure(figsize=(10, 6))\n",
    "plt.plot(df.index, df['Gender'], color='blue', marker='o', linestyle='-')\n",
    "\n",
    "# Impostare le etichette degli assi x (in mesi)\n",
    "plt.xticks(df.index[::30], [date.strftime('%b') for date in df.index[::30]])\n",
    "\n",
    "# Aggiungere titolo ed etichette degli assi\n",
    "plt.title('Grafico a Linee di Serie Temporale')\n",
    "plt.xlabel('Mese')\n",
    "plt.ylabel('Age')\n",
    "\n",
    "# Aggiungere la griglia\n",
    "plt.grid(True)\n",
    "\n",
    "# Mostrare il grafico\n",
    "plt.show()\n",
    "\n"
   ]
  },
  {
   "cell_type": "code",
   "execution_count": 55,
   "metadata": {},
   "outputs": [
    {
     "data": {
      "image/png": "[encoded data removed]",
      "text/plain": [
       "<Figure size 640x480 with 1 Axes>"
      ]
     },
     "metadata": {},
     "output_type": "display_data"
    }
   ],
   "source": [
    "#27. Crea un istogramma di una distribuzione di valori con Matplotlib.\n",
    "\n",
    "import matplotlib.pyplot as plt\n",
    "\n",
    "# Dati di esempio\n",
    "valori = [1, 2, 3, 4, 4, 4, 5, 5, 6, 6, 6, 6, 7, 7, 7, 8, 8, 9, 9, 9]\n",
    "\n",
    "# Crea l'istogramma\n",
    "plt.hist(valori, bins=10, color='skyblue', edgecolor='black')\n",
    "\n",
    "# Aggiungi titolo ed etichette degli assi\n",
    "plt.title('Istogramma di una Distribuzione di Valori')\n",
    "plt.xlabel('Valore')\n",
    "plt.ylabel('Frequenza')\n",
    "\n",
    "# Mostra l'istogramma\n",
    "plt.show()\n",
    "\n"
   ]
  },
  {
   "cell_type": "code",
   "execution_count": 56,
   "metadata": {},
   "outputs": [
    {
     "data": {
      "image/png": "[encoded data removed]",
      "text/plain": [
       "<Figure size 640x480 with 1 Axes>"
      ]
     },
     "metadata": {},
     "output_type": "display_data"
    }
   ],
   "source": [
    "#28. Crea un grafico a barre per rappresentare i dati di un DataFrame\n",
    "\n",
    "import pandas as pd\n",
    "import matplotlib.pyplot as plt\n",
    "\n",
    "# DataFrame di esempio\n",
    "data = {'Categoria': ['A', 'B', 'C', 'D'],\n",
    "        'Valore': [10, 20, 15, 25]}\n",
    "\n",
    "df = pd.DataFrame(data)\n",
    "\n",
    "# Crea il grafico a barre\n",
    "df.plot(kind='bar', x='Categoria', y='Valore', color='skyblue')\n",
    "\n",
    "# Aggiungi titolo ed etichette degli assi\n",
    "plt.title('Grafico a Barre dei Dati del DataFrame')\n",
    "plt.xlabel('Categoria')\n",
    "plt.ylabel('Valore')\n",
    "\n",
    "# Mostra il grafico\n",
    "plt.show()\n"
   ]
  },
  {
   "cell_type": "code",
   "execution_count": 57,
   "metadata": {},
   "outputs": [
    {
     "data": {
      "image/png": "[encoded data removed]",
      "text/plain": [
       "<Figure size 640x480 with 1 Axes>"
      ]
     },
     "metadata": {},
     "output_type": "display_data"
    }
   ],
   "source": [
    "import pandas as pd\n",
    "import matplotlib.pyplot as plt\n",
    "\n",
    "# DataFrame di esempio\n",
    "data = {'X': [1, 2, 3, 4, 5],\n",
    "        'Y': [10, 20, 15, 25, 30]}\n",
    "\n",
    "df = pd.DataFrame(data)\n",
    "\n",
    "# Crea il diagramma a dispersione\n",
    "plt.scatter(df['X'], df['Y'], color='red', marker='o')\n",
    "\n",
    "# Aggiungi titolo ed etichette degli assi\n",
    "plt.title('Diagramma a Dispersione di Due Variabili')\n",
    "plt.xlabel('X')\n",
    "plt.ylabel('Y')\n",
    "\n",
    "# Mostra il diagramma a dispersione\n",
    "plt.show()\n"
   ]
  },
  {
   "cell_type": "code",
   "execution_count": 58,
   "metadata": {},
   "outputs": [
    {
     "data": {
      "image/png": "[encoded data removed]",
      "text/plain": [
       "<Figure size 800x600 with 1 Axes>"
      ]
     },
     "metadata": {},
     "output_type": "display_data"
    }
   ],
   "source": [
    "#30. Crea un box plot per analizzare la distribuzione in un DataFrame\n",
    "\n",
    "import pandas as pd\n",
    "import matplotlib.pyplot as plt\n",
    "\n",
    "# DataFrame di esempio\n",
    "data = {'A': [1, 2, 3, 4, 5, 6, 7, 8, 9],\n",
    "        'B': [2, 4, 6, 8, 10, 12, 14, 16, 18],\n",
    "        'C': [3, 6, 9, 12, 15, 18, 21, 24, 27]}\n",
    "\n",
    "df = pd.DataFrame(data)\n",
    "\n",
    "# Crea il box plot\n",
    "plt.figure(figsize=(8, 6))  # Imposta le dimensioni della figura\n",
    "df.boxplot()\n",
    "\n",
    "# Aggiungi titolo ed etichette degli assi\n",
    "plt.title('Box Plot per la Distribuzione dei Dati')\n",
    "plt.xlabel('Variabili')\n",
    "plt.ylabel('Valori')\n",
    "\n",
    "# Mostra il box plot\n",
    "plt.show()\n"
   ]
  },
  {
   "cell_type": "code",
   "execution_count": null,
   "metadata": {},
   "outputs": [],
   "source": []
  }
 ],
 "metadata": {
  "kernelspec": {
   "display_name": "Python 3",
   "language": "python",
   "name": "python3"
  },
  "language_info": {
   "codemirror_mode": {
    "name": "ipython",
    "version": 3
   },
   "file_extension": ".py",
   "mimetype": "text/x-python",
   "name": "python",
   "nbconvert_exporter": "python",
   "pygments_lexer": "ipython3",
   "version": "3.12.1"
  }
 },
 "nbformat": 4,
 "nbformat_minor": 2
}
